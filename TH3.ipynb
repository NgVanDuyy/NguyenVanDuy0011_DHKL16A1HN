{
 "cells": [
  {
   "cell_type": "code",
   "execution_count": 1,
   "id": "e919f6e4",
   "metadata": {},
   "outputs": [
    {
     "name": "stdout",
     "output_type": "stream",
     "text": [
      "Requirement already satisfied: pyotp in c:\\users\\admin\\anaconda3\\lib\\site-packages (2.9.0)\n",
      "Collecting qrcode[pil]\n",
      "  Obtaining dependency information for qrcode[pil] from https://files.pythonhosted.org/packages/dd/b8/d2d6d731733f51684bbf76bf34dab3b70a9148e8f2cef2bb544fccec681a/qrcode-8.2-py3-none-any.whl.metadata\n",
      "  Downloading qrcode-8.2-py3-none-any.whl.metadata (17 kB)\n",
      "Requirement already satisfied: colorama in c:\\users\\admin\\anaconda3\\lib\\site-packages (from qrcode[pil]) (0.4.6)\n",
      "Requirement already satisfied: pillow>=9.1.0 in c:\\users\\admin\\anaconda3\\lib\\site-packages (from qrcode[pil]) (9.4.0)\n",
      "Downloading qrcode-8.2-py3-none-any.whl (45 kB)\n",
      "   ---------------------------------------- 0.0/46.0 kB ? eta -:--:--\n",
      "   -------------------------- ------------- 30.7/46.0 kB 1.3 MB/s eta 0:00:01\n",
      "   ---------------------------------------- 46.0/46.0 kB 458.3 kB/s eta 0:00:00\n",
      "Installing collected packages: qrcode\n",
      "Successfully installed qrcode-8.2\n"
     ]
    }
   ],
   "source": [
    "!pip install pyotp qrcode[pil]"
   ]
  },
  {
   "cell_type": "code",
   "execution_count": 2,
   "id": "59065356",
   "metadata": {},
   "outputs": [
    {
     "name": "stdout",
     "output_type": "stream",
     "text": [
      "SECRET: NKDGNLQXX6M5MLKR2L27PUS5Y6APOXJO\n",
      "Đã tạo mã QR trong file 'otp_qr.png')\n"
     ]
    }
   ],
   "source": [
    "import pyotp\n",
    "import qrcode\n",
    "\n",
    "# 1. Sinh secret key\n",
    "secret = pyotp.random_base32()\n",
    "print(\"SECRET:\", secret)\n",
    "\n",
    "# 2. Ghi secret ra file để dùng lại\n",
    "with open(\"secret.txt\", \"w\") as f:\n",
    "    f.write(secret)\n",
    "\n",
    "# 3. Tạo URI chuẩn otpauth\n",
    "totp = pyotp.TOTP(secret)\n",
    "uri = totp.provisioning_uri(name=\"user@example.com\",\n",
    "                            issuer_name=\"MyMFAApp\")\n",
    "\n",
    "# 4. Tạo mã QR để quét\n",
    "img = qrcode.make(uri)\n",
    "img.save(\"otp_qr_ver1.png\")\n",
    "print(\"Đã tạo mã QR trong file 'otp_qr.png')\")\n"
   ]
  },
  {
   "cell_type": "code",
   "execution_count": 3,
   "id": "f0e664bf",
   "metadata": {},
   "outputs": [
    {
     "name": "stdout",
     "output_type": "stream",
     "text": [
      "✅ Xác thực thành công! Bạn đã đăng nhập.\n"
     ]
    }
   ],
   "source": [
    "import pyotp\n",
    "\n",
    "# 1. Đọc lại secret key từ file\n",
    "with open(\"secret.txt\", \"r\") as f:\n",
    "    secret = f.read().strip()\n",
    "\n",
    "totp = pyotp.TOTP(secret)\n",
    "\n",
    "# 2. Bước 1: Nhập mật khẩu\n",
    "password = input(\"Nhập mật khẩu: \")\n",
    "if password != \"123456\":\n",
    "    print(\"❌ Mật khẩu sai!\")\n",
    "    exit()\n",
    "\n",
    "# 3. Bước 2: Nhập mã OTP\n",
    "otp = input(\"Nhập mã OTP từ Google Authenticator: \")\n",
    "if totp.verify(otp):\n",
    "    print(\"✅ Xác thực thành công! Bạn đã đăng nhập.\")\n",
    "else:\n",
    "    print(\"❌ Mã OTP sai hoặc hết hạn.\")\n"
   ]
  }
 ],
 "metadata": {
  "kernelspec": {
   "display_name": "base",
   "language": "python",
   "name": "python3"
  },
  "language_info": {
   "codemirror_mode": {
    "name": "ipython",
    "version": 3
   },
   "file_extension": ".py",
   "mimetype": "text/x-python",
   "name": "python",
   "nbconvert_exporter": "python",
   "pygments_lexer": "ipython3",
   "version": "3.11.5"
  }
 },
 "nbformat": 4,
 "nbformat_minor": 5
}
